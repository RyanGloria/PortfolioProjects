{
 "cells": [
  {
   "cell_type": "code",
   "execution_count": 34,
   "id": "1c79b04a",
   "metadata": {},
   "outputs": [],
   "source": [
    "# Import libraries\n",
    "\n",
    "from bs4 import BeautifulSoup\n",
    "import requests\n",
    "import smtplib\n",
    "import time\n",
    "import datetime\n",
    "import csv\n",
    "import pandas as pd"
   ]
  },
  {
   "cell_type": "code",
   "execution_count": 45,
   "id": "68bdbbf0",
   "metadata": {},
   "outputs": [
    {
     "name": "stdout",
     "output_type": "stream",
     "text": [
      "\n",
      "            Fire TV Stick 4K streaming device with latest Alexa Voice Remote (includes TV controls), Dolby Vision\n",
      "           \n",
      "\n",
      "                        $29.99\n",
      "                       \n",
      "\n",
      "                4.8 out of 5 stars\n",
      "               \n",
      "\n",
      "             50,411 ratings\n",
      "            \n"
     ]
    }
   ],
   "source": [
    "# Connect to website\n",
    "\n",
    "url = 'https://www.amazon.com/all-new-fire-tv-stick-4k-with-alexa-voice-remote/dp/B08XVYZ1Y5?ref_=Oct_d_obs_d_1266092011&pd_rd_w=6che7&pf_rd_p=8000bc8c-c3b0-4816-9f00-5038ff54385c&pf_rd_r=HZ5WR30TGBDN3D6M5N44&pd_rd_r=79cce6f4-e59f-48bd-ace4-344c4285e148&pd_rd_wg=RfCoU&pd_rd_i=B08XVYZ1Y5'\n",
    "\n",
    "headers = {\"User-Agent\": \"Mozilla/5.0 (Windows NT 10.0; Win64; x64) AppleWebKit/537.36 (KHTML, like Gecko) Chrome/98.0.4758.81 Safari/537.36\",\"Accept-Encoding\": \"gzip, deflate\",\"Accept\": \"text/html,application/xhtml+xml,application/xml;q=0.9,image/avif,image/webp,image/apng,*/*;q=0.8,application/signed-exchange;v=b3;q=0.9\",\"DNT\":\"1\",\"Connection\":\"close\",\"Upgrade-Insecure-Requests\": \"1\",\"Accept-Language\": \"en-US,en;q=0.9\",\"X-Amzn-Trace-Id\": \"Root=1-6203516f-2c0d02ed1771273a5deea143\"}\n",
    "\n",
    "page = requests.get(url, headers=headers)\n",
    "\n",
    "soup1 = BeautifulSoup(page.content, \"html.parser\")\n",
    "\n",
    "soup2 = BeautifulSoup(soup1.prettify(),\"html.parser\")\n",
    "\n",
    "title = soup2.find(id='productTitle').get_text()\n",
    "\n",
    "price = soup2.find('span','a-offscreen').get_text()\n",
    "\n",
    "rating = soup2.find('span','a-icon-alt').get_text()\n",
    "\n",
    "reviews = soup2.find(id='acrCustomerReviewText').get_text()\n",
    "\n",
    "print(title)\n",
    "print(price)\n",
    "print(rating)\n",
    "print(reviews)"
   ]
  },
  {
   "cell_type": "code",
   "execution_count": 46,
   "id": "1b549699",
   "metadata": {},
   "outputs": [
    {
     "name": "stdout",
     "output_type": "stream",
     "text": [
      "Fire TV Stick 4K streaming device with latest Alexa Voice Remote (includes TV controls), Dolby Vision\n",
      "29.99\n",
      "4.8\n",
      "50,411\n"
     ]
    }
   ],
   "source": [
    "# Formatting data\n",
    "\n",
    "title = title.strip()\n",
    "price = price.strip()[1:]\n",
    "rating = rating.split()[0].strip()\n",
    "reviews = reviews.split()[0].strip()\n",
    "\n",
    "print(title)\n",
    "print(price)\n",
    "print(rating)\n",
    "print(reviews)"
   ]
  },
  {
   "cell_type": "code",
   "execution_count": 47,
   "id": "bf6ca8e0",
   "metadata": {},
   "outputs": [
    {
     "name": "stdout",
     "output_type": "stream",
     "text": [
      "2022-02-09\n"
     ]
    }
   ],
   "source": [
    "# Creating time stamp\n",
    "\n",
    "today = datetime.date.today()\n",
    "print(today)"
   ]
  },
  {
   "cell_type": "code",
   "execution_count": 48,
   "id": "e1a792b9",
   "metadata": {},
   "outputs": [],
   "source": [
    "# Creating Excel file\n",
    "\n",
    "header = ['Title','Price','Date','Rating (Out of 5)','Reviews']\n",
    "data = [title,price,today,rating,reviews]\n",
    "\n",
    "#with open('AmazonDataset.csv','w', newline='', encoding='UTF8') as f:\n",
    "    #writer = csv.writer(f)\n",
    "    #writer.writerow(header)\n",
    "    #writer.writerow(data)\n"
   ]
  },
  {
   "cell_type": "code",
   "execution_count": 49,
   "id": "215372b5",
   "metadata": {},
   "outputs": [
    {
     "name": "stdout",
     "output_type": "stream",
     "text": [
      "                                               Title  Price        Date  \\\n",
      "0  Fire TV Stick 4K streaming device with latest ...  29.99  2022-02-09   \n",
      "\n",
      "   Rating (Out of 5) Reviews  \n",
      "0                4.8  50,411  \n"
     ]
    }
   ],
   "source": [
    "# Looking at new file\n",
    "\n",
    "df = pd.read_csv(r'C:\\Users\\Ryan\\AmazonDataset.csv')\n",
    "print(df)"
   ]
  },
  {
   "cell_type": "code",
   "execution_count": null,
   "id": "15339557",
   "metadata": {},
   "outputs": [],
   "source": [
    "# Appending data to the csv\n",
    "\n",
    "with open('AmazonDataset.csv','w', newline='', encoding='UTF8') as f:\n",
    "    writer = csv.writer(f)\n",
    "    writer.writerow(data)"
   ]
  },
  {
   "cell_type": "code",
   "execution_count": null,
   "id": "73806968",
   "metadata": {},
   "outputs": [],
   "source": [
    "# Automating above process\n",
    "\n",
    "def check_price():\n",
    "    url = 'https://www.amazon.com/all-new-fire-tv-stick-4k-with-alexa-voice-remote/dp/B08XVYZ1Y5?ref_=Oct_d_obs_d_1266092011&pd_rd_w=6che7&pf_rd_p=8000bc8c-c3b0-4816-9f00-5038ff54385c&pf_rd_r=HZ5WR30TGBDN3D6M5N44&pd_rd_r=79cce6f4-e59f-48bd-ace4-344c4285e148&pd_rd_wg=RfCoU&pd_rd_i=B08XVYZ1Y5'\n",
    "\n",
    "    headers = {\"User-Agent\": \"Mozilla/5.0 (Windows NT 10.0; Win64; x64) AppleWebKit/537.36 (KHTML, like Gecko) Chrome/98.0.4758.81 Safari/537.36\",\"Accept-Encoding\": \"gzip, deflate\",\"Accept\": \"text/html,application/xhtml+xml,application/xml;q=0.9,image/avif,image/webp,image/apng,*/*;q=0.8,application/signed-exchange;v=b3;q=0.9\",\"DNT\":\"1\",\"Connection\":\"close\",\"Upgrade-Insecure-Requests\": \"1\",\"Accept-Language\": \"en-US,en;q=0.9\",\"X-Amzn-Trace-Id\": \"Root=1-6203516f-2c0d02ed1771273a5deea143\"}\n",
    "\n",
    "    page = requests.get(url, headers=headers)\n",
    "\n",
    "    soup1 = BeautifulSoup(page.content, \"html.parser\")\n",
    "\n",
    "    soup2 = BeautifulSoup(soup1.prettify(),\"html.parser\")\n",
    "\n",
    "    title = soup2.find(id='productTitle').get_text()\n",
    "\n",
    "    price = soup2.find('span','a-offscreen').get_text()\n",
    "\n",
    "    rating = soup2.find('span','a-icon-alt').get_text()\n",
    "\n",
    "    reviews = soup2.find(id='acrCustomerReviewText').get_text()\n",
    "    \n",
    "    title = title.strip()\n",
    "    price = price.strip()[1:]\n",
    "    rating = rating.split()[0].strip()\n",
    "    reviews = reviews.split()[0].strip()\n",
    "    \n",
    "    today = datetime.date.today()\n",
    "    \n",
    "    header = ['Title','Price','Date','Rating (Out of 5)','Reviews']\n",
    "    data = [title,price,today,rating,reviews]\n",
    "    \n",
    "    with open('AmazonDataset.csv','w', newline='', encoding='UTF8') as f:\n",
    "        writer = csv.writer(f)\n",
    "        writer.writerow(data)\n"
   ]
  },
  {
   "cell_type": "code",
   "execution_count": null,
   "id": "6171d88e",
   "metadata": {},
   "outputs": [],
   "source": [
    "# Setting time interval to 24hrs\n",
    "\n",
    "while(True):\n",
    "    check_price()\n",
    "    time.sleep(86400)"
   ]
  },
  {
   "cell_type": "code",
   "execution_count": null,
   "id": "f0e725ca",
   "metadata": {},
   "outputs": [],
   "source": [
    "df = pd.read_csv(r'C:\\Users\\Ryan\\AmazonDataset.csv')\n",
    "print(df)"
   ]
  }
 ],
 "metadata": {
  "kernelspec": {
   "display_name": "Python 3 (ipykernel)",
   "language": "python",
   "name": "python3"
  },
  "language_info": {
   "codemirror_mode": {
    "name": "ipython",
    "version": 3
   },
   "file_extension": ".py",
   "mimetype": "text/x-python",
   "name": "python",
   "nbconvert_exporter": "python",
   "pygments_lexer": "ipython3",
   "version": "3.9.7"
  }
 },
 "nbformat": 4,
 "nbformat_minor": 5
}
